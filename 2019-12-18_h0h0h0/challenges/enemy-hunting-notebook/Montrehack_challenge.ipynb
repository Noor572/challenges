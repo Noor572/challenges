{
 "cells": [
  {
   "cell_type": "markdown",
   "metadata": {},
   "source": [
    "# Montrehack Challenge \n",
    "\n",
    "This is a data science challenge for beginners!\n",
    "\n",
    "Useful Python Libraries: \n",
    "- pandas (https://pandas.pydata.org/)\n",
    "- numpy (https://numpy.org/) \n",
    "- scipy (https://www.scipy.org/) \n",
    "\n",
    "\n",
    "You have access to a modified version of the database: UNSW-NB15 (https://www.unsw.adfa.edu.au/unsw-canberra-cyber/cybersecurity/ADFA-NB15-Datasets/).\n",
    "\n",
    "The flag is divided in three. Find the three parts by navigating in the database and playing with the data. Follow the hints for each challenge.\n",
    "\n",
    "The form is:\n",
    "\n",
    "Flag - xxxx (P1) - xxxxxxxxxx (P2) - x.xxx (P3)\n",
    "\n"
   ]
  },
  {
   "cell_type": "code",
   "execution_count": 3,
   "metadata": {},
   "outputs": [],
   "source": [
    "#import requires libraries \n",
    "import numpy as np \n",
    "import pandas as pd \n",
    "from scipy import stats"
   ]
  },
  {
   "cell_type": "code",
   "execution_count": 9,
   "metadata": {},
   "outputs": [],
   "source": [
    "#df is for dataframe \n",
    "df = pd.read_csv('data_montrehack.csv', dtype= {1: object, 3:object, 8:object, 11:object})"
   ]
  },
  {
   "cell_type": "markdown",
   "metadata": {},
   "source": [
    "### Flag (P1): flagxxxxxxxxxxxxx \n",
    "\n",
    "\n",
    "#### My first part is located at:\n",
    "- The row is ten thousand times your current latitude (rounded to the integer)\n",
    "- The column is current longitude (rounded to the integer) divided by -7.3"
   ]
  },
  {
   "cell_type": "code",
   "execution_count": null,
   "metadata": {},
   "outputs": [],
   "source": []
  },
  {
   "cell_type": "markdown",
   "metadata": {},
   "source": [
    "### Flag (P2): flag-xxxxxxxxxxxxxxxxxxxxxxxxxxx\n",
    "\n",
    "My second part can be found with my attack pattern specifically when:\n",
    "- I send my exploits from North Korea\n",
    "- Only through ftp \n",
    "- When backtracking through time"
   ]
  },
  {
   "cell_type": "code",
   "execution_count": null,
   "metadata": {},
   "outputs": [],
   "source": []
  },
  {
   "cell_type": "markdown",
   "metadata": {},
   "source": [
    "###  Flag (P3): x.xxx \n",
    "\n",
    "My Third Part is a linear estimation, inspired by Karl Pearson, on whether: \n",
    "- There is a significant relationship between a packet being flagged as an attack and the duration of the connection of the said packet when going through UDP"
   ]
  },
  {
   "cell_type": "code",
   "execution_count": null,
   "metadata": {},
   "outputs": [],
   "source": []
  },
  {
   "cell_type": "markdown",
   "metadata": {},
   "source": [
    "### Final flag format: \n",
    "\n",
    "\"xxxxxxxxxxxxx-xxxxxxxxxxxxxxxxxxxxxxxxxxx-x.xxx\""
   ]
  }
 ],
 "metadata": {
  "kernelspec": {
   "display_name": "Python 3",
   "language": "python",
   "name": "python3"
  },
  "language_info": {
   "codemirror_mode": {
    "name": "ipython",
    "version": 3
   },
   "file_extension": ".py",
   "mimetype": "text/x-python",
   "name": "python",
   "nbconvert_exporter": "python",
   "pygments_lexer": "ipython3",
   "version": "3.6.0"
  }
 },
 "nbformat": 4,
 "nbformat_minor": 2
}
